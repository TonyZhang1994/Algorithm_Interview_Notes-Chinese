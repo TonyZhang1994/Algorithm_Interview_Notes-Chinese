{
  "nbformat": 4,
  "nbformat_minor": 0,
  "metadata": {
    "colab": {
      "name": "CSCI544_PyTorchDL_Tutorial_Todo.ipynb",
      "provenance": [],
      "toc_visible": true,
      "include_colab_link": true
    },
    "kernelspec": {
      "name": "python3",
      "display_name": "Python 3"
    },
    "accelerator": "GPU"
  },
  "cells": [
    {
      "cell_type": "markdown",
      "metadata": {
        "id": "view-in-github",
        "colab_type": "text"
      },
      "source": [
        "<a href=\"https://colab.research.google.com/github/TonyZhang1994/Algorithm_Interview_Notes-Chinese/blob/master/CSCI544_PyTorchDL_Tutorial_Todo.ipynb\" target=\"_parent\"><img src=\"https://colab.research.google.com/assets/colab-badge.svg\" alt=\"Open In Colab\"/></a>"
      ]
    },
    {
      "cell_type": "markdown",
      "metadata": {
        "id": "Mlc3xG6EAPMp",
        "colab_type": "text"
      },
      "source": [
        "Author: Rujun (RJ) Han \\\\\n",
        "Created: September 2019 \\\\\n",
        "2nd Part adapted from TG's tutorial: https://colab.research.google.com/drive/10WICfaAQcXKDM8P07JuoeQL01pTx64TB "
      ]
    },
    {
      "cell_type": "markdown",
      "metadata": {
        "id": "kIn5d3K7E1lo",
        "colab_type": "text"
      },
      "source": [
        "# Objective\n",
        "\n",
        "1.   Hands-on PyTorch Tutorial\n",
        "2.   Demonstrate PyTorch end-to-end framework to build deep learning pipeline"
      ]
    },
    {
      "cell_type": "markdown",
      "metadata": {
        "id": "T_4o-1q7IHJs",
        "colab_type": "text"
      },
      "source": [
        "# **Overview**\n",
        "\n",
        "*   Colab Setup\n",
        "*   PyTorch Fundamentals + Feed Forward Network\n",
        "*   Task: Sentiment Analysis on Movie Reviews dataset\n",
        "*   Data Preparation\n",
        "*   Trainer\n",
        "*   Evaluation\n"
      ]
    },
    {
      "cell_type": "code",
      "metadata": {
        "id": "YkAlIVoLEHyq",
        "colab_type": "code",
        "outputId": "f28443d5-208e-4fd4-ae36-9a98513b0f8a",
        "colab": {
          "base_uri": "https://localhost:8080/",
          "height": 34
        }
      },
      "source": [
        "print(\"NLP is awesome!\")"
      ],
      "execution_count": 0,
      "outputs": [
        {
          "output_type": "stream",
          "text": [
            "NLP is awesome!\n"
          ],
          "name": "stdout"
        }
      ]
    },
    {
      "cell_type": "markdown",
      "metadata": {
        "id": "CL3o4eTsLrZm",
        "colab_type": "text"
      },
      "source": [
        "# Colab Setup\n",
        "\n",
        "### Enable GPU backend\n",
        "Edit > Notebook Settings > Hardware Accelerator = GPU \\\\\n",
        "\n",
        "### Locate where this notebook is saved\n",
        "By default, it is saved in Google Drive. File > Locate in Drive \\\\\n",
        "\n",
        "Summary: Colab is awesome (no setup required!) Thanks Google"
      ]
    },
    {
      "cell_type": "markdown",
      "metadata": {
        "id": "7BlqnaKMMKg_",
        "colab_type": "text"
      },
      "source": [
        "# I. PyTorch Fundamentals\n",
        "\n",
        "**Offical Website:** https://pytorch.org \\\\\n",
        "An open source machine learning framework that accelerates the path from research prototyping to production deployment.\n",
        "\n",
        "**Popular Alternatives:** Tensorflow, Keras, Theano, etc.\n",
        "\n",
        "**PyTorch vs. Tensorflow** \n",
        "[Dynamic vs. Static computation graph](https://medium.com/@omaraymanomar/dynamic-vs-static-computation-graph-2579d1934ecf) (FAIR vs. Google AI)"
      ]
    },
    {
      "cell_type": "markdown",
      "metadata": {
        "id": "SeMT2nksj5MK",
        "colab_type": "text"
      },
      "source": [
        "## Practice I: Manipulating Tensors\n",
        "Special case: Vector (1D); Matrix (2D)"
      ]
    },
    {
      "cell_type": "code",
      "metadata": {
        "id": "GAna38---pf-",
        "colab_type": "code",
        "outputId": "ff678472-5061-4aa9-f1d6-9d1516749d79",
        "colab": {
          "base_uri": "https://localhost:8080/",
          "height": 51
        }
      },
      "source": [
        "import torch\n",
        "## Resources\n",
        "print('Using Torch', torch.__version__)\n",
        "print('GPU available?', torch.cuda.is_available())"
      ],
      "execution_count": 0,
      "outputs": [
        {
          "output_type": "stream",
          "text": [
            "Using Torch 1.1.0\n",
            "GPU available? True\n"
          ],
          "name": "stdout"
        }
      ]
    },
    {
      "cell_type": "code",
      "metadata": {
        "id": "AxGdSyq-bRR4",
        "colab_type": "code",
        "colab": {}
      },
      "source": [
        "torch.#tensor([0.1, 0.2])"
      ],
      "execution_count": 0,
      "outputs": []
    },
    {
      "cell_type": "code",
      "metadata": {
        "id": "3umc45S8kquk",
        "colab_type": "code",
        "colab": {}
      },
      "source": [
        "dtype = torch.float\n",
        "device = torch.device(\"cpu\")\n",
        "#device = torch.device(\"cuda:0\") # Uncomment this to run on GPU\n",
        "\n",
        "# N is (data) batch size; D_in is input dimension; \n",
        "# H is hidden dimension; D_out is output dimension.\n",
        "\n",
        "N, D_in, H, D_out = 64, 1000, 100, 10 # 64 * 1000 --> 64 * 10\n",
        "\n",
        "# Create random input and output data\n",
        "x = torch.randn(N, D_in, device=device, dtype=dtype)\n",
        "\n",
        "y = torch.randn(N, D_out, device=device, dtype=dtype)\n",
        "\n",
        "# Randomly initialize weights\n",
        "w1 = torch.randn(D_in, H, device=device, dtype=dtype)\n",
        "w2 = torch.randn(H, D_out, device=device, dtype=dtype)"
      ],
      "execution_count": 0,
      "outputs": []
    },
    {
      "cell_type": "code",
      "metadata": {
        "id": "e26mPTv-Mh_y",
        "colab_type": "code",
        "outputId": "ac1d5a5f-59aa-45f0-c5b0-08392956c453",
        "colab": {
          "base_uri": "https://localhost:8080/",
          "height": 85
        }
      },
      "source": [
        "x.shape, y.shape, w1.shape, w2.shape"
      ],
      "execution_count": 0,
      "outputs": [
        {
          "output_type": "execute_result",
          "data": {
            "text/plain": [
              "(torch.Size([64, 1000]),\n",
              " torch.Size([64, 10]),\n",
              " torch.Size([1000, 100]),\n",
              " torch.Size([100, 10]))"
            ]
          },
          "metadata": {
            "tags": []
          },
          "execution_count": 4
        }
      ]
    },
    {
      "cell_type": "code",
      "metadata": {
        "id": "_BbOxW5lMgSR",
        "colab_type": "code",
        "outputId": "01ea2545-3f9f-4532-f058-1f8bd3c78318",
        "colab": {
          "base_uri": "https://localhost:8080/",
          "height": 34
        }
      },
      "source": [
        "# matrix multiplication: X * W1 -- (64 * 1000) x (1000 * 100)\n",
        "h1 = x.mm(w1)\n",
        "h1.shape"
      ],
      "execution_count": 0,
      "outputs": [
        {
          "output_type": "execute_result",
          "data": {
            "text/plain": [
              "torch.Size([64, 100])"
            ]
          },
          "metadata": {
            "tags": []
          },
          "execution_count": 6
        }
      ]
    },
    {
      "cell_type": "markdown",
      "metadata": {
        "id": "7U--pYGBoWRh",
        "colab_type": "text"
      },
      "source": [
        "### Todo (5 - 10 mins): \n",
        "Create a random tensor **b** with dimenson N * 1 \\\\\n",
        "Update $h_1$ by adding **b** \\\\\n",
        "Print shape of this tensor"
      ]
    },
    {
      "cell_type": "code",
      "metadata": {
        "id": "0C6Wg-gMq15S",
        "colab_type": "code",
        "colab": {}
      },
      "source": [
        "## your code here"
      ],
      "execution_count": 0,
      "outputs": []
    },
    {
      "cell_type": "markdown",
      "metadata": {
        "id": "St4M_3O1qs7U",
        "colab_type": "text"
      },
      "source": [
        "## Practice II: Activation Functions\n",
        "\n",
        "Neural Network: [activation functions](https://en.wikipedia.org/wiki/Activation_function)\n",
        "\n",
        "**Why do we need activation functions**?\n",
        "\n",
        "\n",
        "1.   Non-linearity -- allows NN to approximate arbitrary functions\n",
        "2.   Mapping output into probability space (softmax function)\n",
        "\n"
      ]
    },
    {
      "cell_type": "code",
      "metadata": {
        "id": "m2sfl2t5laq4",
        "colab_type": "code",
        "outputId": "372ff460-ba36-4bda-9bfc-74f316f8b802",
        "colab": {
          "base_uri": "https://localhost:8080/",
          "height": 255
        }
      },
      "source": [
        "torch.relu(x), x"
      ],
      "execution_count": 0,
      "outputs": [
        {
          "output_type": "execute_result",
          "data": {
            "text/plain": [
              "(tensor([[2.3810, 0.0000, 0.0330,  ..., 0.0000, 2.0773, 0.4446],\n",
              "         [0.3052, 0.0791, 0.0000,  ..., 0.2019, 1.5184, 0.0000],\n",
              "         [0.0000, 0.0000, 0.0000,  ..., 0.4033, 0.0000, 0.3911],\n",
              "         ...,\n",
              "         [0.0000, 0.0485, 0.0000,  ..., 1.1079, 0.3335, 0.9327],\n",
              "         [0.0000, 2.1679, 0.0000,  ..., 0.0998, 0.0000, 0.4320],\n",
              "         [0.6522, 0.6501, 0.0000,  ..., 0.0000, 0.0000, 1.0330]]),\n",
              " tensor([[ 2.3810, -1.1657,  0.0330,  ..., -1.6808,  2.0773,  0.4446],\n",
              "         [ 0.3052,  0.0791, -1.1296,  ...,  0.2019,  1.5184, -0.7700],\n",
              "         [-3.1773, -0.3608, -1.4235,  ...,  0.4033, -0.2724,  0.3911],\n",
              "         ...,\n",
              "         [-0.2724,  0.0485, -0.4152,  ...,  1.1079,  0.3335,  0.9327],\n",
              "         [-0.2812,  2.1679, -0.1425,  ...,  0.0998, -0.4558,  0.4320],\n",
              "         [ 0.6522,  0.6501, -1.5359,  ..., -1.9835, -2.1921,  1.0330]]))"
            ]
          },
          "metadata": {
            "tags": []
          },
          "execution_count": 8
        }
      ]
    },
    {
      "cell_type": "markdown",
      "metadata": {
        "id": "x72-PtBnwJCg",
        "colab_type": "text"
      },
      "source": [
        "### Todo (2 mins):\n",
        "*   Update your previous previous calculation with sigmoid function.\n",
        "*   Alternatively, you may try torch.relu(), torch.tanh(), etc.\n",
        "*   Name the result as **h_activated**, output its dimension"
      ]
    },
    {
      "cell_type": "code",
      "metadata": {
        "id": "Z897rzvYwNJD",
        "colab_type": "code",
        "colab": {}
      },
      "source": [
        "## your code here"
      ],
      "execution_count": 0,
      "outputs": []
    },
    {
      "cell_type": "markdown",
      "metadata": {
        "id": "3u89Jvr64h66",
        "colab_type": "text"
      },
      "source": [
        "## Practice III: Loss Function and Supervised Learning\n",
        "\n",
        "Supervised Learing vs. Unsupervised Learning? \\\\\n",
        "\n",
        "Square Loss: $\\sum_i^N (y - y_{pred})^2$ \\\\\n",
        "\n",
        "Can we use $h_{activated}$ as $y_{pred}$, why and why not? \n"
      ]
    },
    {
      "cell_type": "markdown",
      "metadata": {
        "id": "fVANdhgg937Q",
        "colab_type": "text"
      },
      "source": [
        "### Todo (5 mins):\n",
        "calculate $y_{pred} = h_{activated} * w_2 + c$, constant c is optional"
      ]
    },
    {
      "cell_type": "code",
      "metadata": {
        "id": "jQfchysP0G_S",
        "colab_type": "code",
        "colab": {}
      },
      "source": [
        "### your code here\n",
        "\n",
        "#loss = (y_pred - y).pow(2).sum().item()"
      ],
      "execution_count": 0,
      "outputs": []
    },
    {
      "cell_type": "markdown",
      "metadata": {
        "id": "2MQvZ424BPme",
        "colab_type": "text"
      },
      "source": [
        "## What's next?\n",
        "We've built a very simple DL model architecture -- Feed Forward Neural Network. But how to learn parameters, i.e. $w_1, w_2, b, c$? \n",
        "*   [Backpropagation](https://brilliant.org/wiki/backpropagation/)\n",
        "*   Iterate until convergence -- gradient descent\n",
        "\n"
      ]
    },
    {
      "cell_type": "markdown",
      "metadata": {
        "id": "8j141CR288yv",
        "colab_type": "text"
      },
      "source": [
        "### Wrap everything up with PyTorch [NN modules](https://pytorch.org/docs/stable/nn.html). Search for torch.nn.linear."
      ]
    },
    {
      "cell_type": "code",
      "metadata": {
        "id": "akzbXpTj7U06",
        "colab_type": "code",
        "colab": {}
      },
      "source": [
        "class FFN(torch.nn.Module):\n",
        "    def __init__(self, D_in, H, D_out):\n",
        "        \"\"\"\n",
        "        In the constructor we instantiate two nn.Linear modules and assign them as\n",
        "        member variables.\n",
        "        \"\"\"\n",
        "        super(FFN, self).__init__()\n",
        "        self.linear1 = torch.nn.Linear(D_in, H)\n",
        "        self.linear2 = torch.nn.Linear(H, D_out)\n",
        "\n",
        "    def forward(self, x):\n",
        "        \"\"\"\n",
        "        In the forward function we accept a Tensor of input data and we must return\n",
        "        a Tensor of output data. We can use Modules defined in the constructor as\n",
        "        well as arbitrary operators on Tensors.\n",
        "        \"\"\"\n",
        "        h_activated = self.linear1(x).sigmoid()\n",
        "        y_pred = self.linear2(h_activated)\n",
        "        return y_pred"
      ],
      "execution_count": 0,
      "outputs": []
    },
    {
      "cell_type": "code",
      "metadata": {
        "id": "_Wd1GRG0Q4A7",
        "colab_type": "code",
        "colab": {}
      },
      "source": [
        "model = FFN(D_in, H, D_out)"
      ],
      "execution_count": 0,
      "outputs": []
    },
    {
      "cell_type": "markdown",
      "metadata": {
        "id": "GgT8Cr6J-I6d",
        "colab_type": "text"
      },
      "source": [
        "### Another (much more convenient) way to create loss function in PyTorch. \n",
        "\n",
        "PyTorch package contains most commonly used loss functions. But we can easily create our own and integrate it with PyTorch pipeline."
      ]
    },
    {
      "cell_type": "code",
      "metadata": {
        "id": "dHdf1Szk7iUN",
        "colab_type": "code",
        "colab": {}
      },
      "source": [
        "loss_fn = torch.nn.MSELoss(reduction='sum')"
      ],
      "execution_count": 0,
      "outputs": []
    },
    {
      "cell_type": "markdown",
      "metadata": {
        "id": "_oeva-qqgZTt",
        "colab_type": "text"
      },
      "source": [
        "### Questions?"
      ]
    },
    {
      "cell_type": "markdown",
      "metadata": {
        "id": "HVfRmkr8AB7x",
        "colab_type": "text"
      },
      "source": [
        "### PyTorch [Optimizers](https://pytorch.org/docs/stable/optim.html)"
      ]
    },
    {
      "cell_type": "code",
      "metadata": {
        "id": "bcVFsomE__-4",
        "colab_type": "code",
        "colab": {}
      },
      "source": [
        "import torch.optim as optim\n",
        "\n",
        "learning_rate = 1e-4\n",
        "optimizer = optim.SGD(model.parameters(), lr=learning_rate)"
      ],
      "execution_count": 0,
      "outputs": []
    },
    {
      "cell_type": "markdown",
      "metadata": {
        "id": "hOmT7U2sCfr7",
        "colab_type": "text"
      },
      "source": [
        "### Parameter learning through iterative algorithm. [Gradient Descent](https://en.wikipedia.org/wiki/Gradient_descent)"
      ]
    },
    {
      "cell_type": "code",
      "metadata": {
        "id": "c4hWqDYK6bd6",
        "colab_type": "code",
        "colab": {}
      },
      "source": [
        "for t in range(10):\n",
        "    # Forward pass: compute predicted y by passing x to the model.\n",
        "    y_pred = # fill in the blank here\n",
        "\n",
        "    # Compute and print loss.\n",
        "    loss = loss_fn(,) # fill in the blank here\n",
        "    \n",
        "    print(t, loss.item())\n",
        "\n",
        "    # Before the backward pass, use the optimizer object to zero all of the\n",
        "    # gradients for the variables it will update (which are the learnable\n",
        "    # weights of the model). This is because by default, gradients are\n",
        "    # accumulated in buffers( i.e, not overwritten) whenever .backward()\n",
        "    # is called. Checkout docs of torch.autograd.backward for more details.\n",
        "    optimizer.zero_grad()\n",
        "\n",
        "    # Backward pass: compute gradient of the loss with respect to model\n",
        "    # parameters\n",
        "    loss.backward()\n",
        "\n",
        "    # Calling the step function on an Optimizer makes an update to its\n",
        "    # parameters: w_1(t) = w_1(t-1) - lr * gradient(w_1)\n",
        "    optimizer.step()"
      ],
      "execution_count": 0,
      "outputs": []
    },
    {
      "cell_type": "markdown",
      "metadata": {
        "id": "iD9KrWnyDHpe",
        "colab_type": "text"
      },
      "source": [
        "# II. Sentiment Analysis on Movie Reviews dataset \n",
        "\n",
        "### We will move very fast in this section; the goal is to demonstrate an end-to-end PyTorch pipeline for HW and project.\n",
        "\n",
        "We want to build a non-linear (binary) classfier on text data.\n",
        "\n",
        "Large Movie Review Dataset from https://ai.stanford.edu/~amaas/data/sentiment/"
      ]
    },
    {
      "cell_type": "markdown",
      "metadata": {
        "id": "g6DHIjyrF2Xc",
        "colab_type": "text"
      },
      "source": [
        "## Download data and tokenizer"
      ]
    },
    {
      "cell_type": "code",
      "metadata": {
        "id": "_L87W64m-sw8",
        "colab_type": "code",
        "outputId": "1c95d9d4-1f31-4185-ed95-ba3f4e6c2dfc",
        "colab": {
          "base_uri": "https://localhost:8080/",
          "height": 479
        }
      },
      "source": [
        "![[ -f aclImdb_v1.tar.gz ]]  && echo \"Data already Downloaded\" || wget https://ai.stanford.edu/~amaas/data/sentiment/aclImdb_v1.tar.gz\n",
        "![[ -d aclImdb ]] && echo \"already extracted\" || tar xf aclImdb_v1.tar.gz \n",
        "# Install Tokenizer\n",
        "! pip install mosestokenizer"
      ],
      "execution_count": 0,
      "outputs": [
        {
          "output_type": "stream",
          "text": [
            "--2019-09-18 04:07:42--  https://ai.stanford.edu/~amaas/data/sentiment/aclImdb_v1.tar.gz\n",
            "Resolving ai.stanford.edu (ai.stanford.edu)... 171.64.68.10\n",
            "Connecting to ai.stanford.edu (ai.stanford.edu)|171.64.68.10|:443... connected.\n",
            "HTTP request sent, awaiting response... 200 OK\n",
            "Length: 84125825 (80M) [application/x-gzip]\n",
            "Saving to: ‘aclImdb_v1.tar.gz’\n",
            "\n",
            "aclImdb_v1.tar.gz   100%[===================>]  80.23M  20.7MB/s    in 6.6s    \n",
            "\n",
            "2019-09-18 04:07:49 (12.1 MB/s) - ‘aclImdb_v1.tar.gz’ saved [84125825/84125825]\n",
            "\n",
            "Collecting mosestokenizer\n",
            "\u001b[?25l  Downloading https://files.pythonhosted.org/packages/45/c6/913c968e5cbcaff6cdd2a54a1008330c01a573ecadcdf9f526058e3d33a0/mosestokenizer-1.0.0-py3-none-any.whl (51kB)\n",
            "\u001b[K     |████████████████████████████████| 51kB 2.1MB/s \n",
            "\u001b[?25hCollecting openfile (from mosestokenizer)\n",
            "  Downloading https://files.pythonhosted.org/packages/93/e6/805db6867faacb488b44ba8e0829ef4de151dd0499f3c5da5f4ad11698a7/openfile-0.0.7-py3-none-any.whl\n",
            "Requirement already satisfied: docopt in /usr/local/lib/python3.6/dist-packages (from mosestokenizer) (0.6.2)\n",
            "Collecting toolwrapper (from mosestokenizer)\n",
            "  Downloading https://files.pythonhosted.org/packages/ad/00/dba43b705ecb0d286576e78fc5b5d75c27ba3d1c4b80cf9a047ec3c6ad3f/toolwrapper-1.0.0.tar.gz\n",
            "Building wheels for collected packages: toolwrapper\n",
            "  Building wheel for toolwrapper (setup.py) ... \u001b[?25l\u001b[?25hdone\n",
            "  Created wheel for toolwrapper: filename=toolwrapper-1.0.0-cp36-none-any.whl size=3225 sha256=e40587b5a38ae8d9221047a89daf92dff4f42774987d4cdc0a1c913c2060569b\n",
            "  Stored in directory: /root/.cache/pip/wheels/5c/b0/2e/b8c414550c8372586ebaab634cf1f93733349cfe2b1d694fe8\n",
            "Successfully built toolwrapper\n",
            "Installing collected packages: openfile, toolwrapper, mosestokenizer\n",
            "Successfully installed mosestokenizer-1.0.0 openfile-0.0.7 toolwrapper-1.0.0\n"
          ],
          "name": "stdout"
        }
      ]
    },
    {
      "cell_type": "code",
      "metadata": {
        "id": "X1XfuUZMDIhi",
        "colab_type": "code",
        "outputId": "b6c6561d-c9f5-4540-abbf-1c2ffdfb7dcc",
        "colab": {
          "base_uri": "https://localhost:8080/",
          "height": 34
        }
      },
      "source": [
        "!ls"
      ],
      "execution_count": 0,
      "outputs": [
        {
          "output_type": "stream",
          "text": [
            "aclImdb  aclImdb_v1.tar.gz  sample_data\n"
          ],
          "name": "stdout"
        }
      ]
    },
    {
      "cell_type": "markdown",
      "metadata": {
        "id": "q1DI2OuiGAUF",
        "colab_type": "text"
      },
      "source": [
        "## Data Preparation"
      ]
    },
    {
      "cell_type": "markdown",
      "metadata": {
        "id": "4Qhhy7mKGdaH",
        "colab_type": "text"
      },
      "source": [
        "### Tokenization"
      ]
    },
    {
      "cell_type": "code",
      "metadata": {
        "id": "t518pszPDZG0",
        "colab_type": "code",
        "outputId": "9bb05242-f0ec-40da-fc4b-8970b4167492",
        "colab": {
          "base_uri": "https://localhost:8080/",
          "height": 139
        }
      },
      "source": [
        "from pathlib import Path\n",
        "from tqdm import tqdm \n",
        "from mosestokenizer import MosesTokenizer # SpaCy; NLTK; Wordpiece \n",
        "import logging as log\n",
        "\n",
        "log.basicConfig(level=log.INFO)\n",
        "tokr = MosesTokenizer()\n",
        "\n",
        "\n",
        "def read_all(dir):\n",
        "  \"\"\"Reads a dataset of pos and neg text\"\"\"\n",
        "  for p in dir.glob('pos/*.txt'):\n",
        "    yield ('POS', p.read_text())\n",
        "  for p in dir.glob('neg/*.txt'):\n",
        "    yield ('NEG', p.read_text())\n",
        "\n",
        "def read_tokenized(dir):\n",
        "  \"\"\"Tokenization wrapper\"\"\"\n",
        "  for label, text in read_all(dir):\n",
        "    yield (label, tokr(text))\n",
        "\n",
        "train_ful_file = Path('train.ful.tok.tsv')\n",
        "test_file = Path('test.tok.tsv')\n",
        "\n",
        "if not train_ful_file.exists():\n",
        "  log.info(\"creating train file\")\n",
        "  with train_ful_file.open('w') as w:\n",
        "    for label, toks in tqdm(read_tokenized(Path('aclImdb/train'))):\n",
        "      w.write(f'{label}\\t{\" \".join(toks)}\\n')\n",
        "\n",
        "if not test_file.exists():\n",
        "  log.info(\"creating test file\")\n",
        "  with test_file.open('w') as w:\n",
        "    for label, toks in tqdm(read_tokenized(Path('aclImdb/test'))):\n",
        "      w.write(f'{label}\\t{\" \".join(toks)}\\n')"
      ],
      "execution_count": 0,
      "outputs": [
        {
          "output_type": "stream",
          "text": [
            "INFO:mosestokenizer.tokenizer.MosesTokenizer:executing argv ['perl', '/usr/local/lib/python3.6/dist-packages/mosestokenizer/tokenizer-v1.1.perl', '-q', '-l', 'en', '-b', '-a']\n",
            "INFO:mosestokenizer.tokenizer.MosesTokenizer:spawned process 843\n",
            "INFO:root:creating train file\n",
            "25000it [00:24, 1017.98it/s]\n",
            "INFO:root:creating test file\n",
            "25000it [00:23, 1003.59it/s]\n"
          ],
          "name": "stderr"
        }
      ]
    },
    {
      "cell_type": "code",
      "metadata": {
        "id": "E0yRDo99DhOj",
        "colab_type": "code",
        "outputId": "65dc701c-1b53-4ffb-f698-d8cd86449ab4",
        "colab": {
          "base_uri": "https://localhost:8080/",
          "height": 34
        }
      },
      "source": [
        "tokr(\"I'd like to visit united-nations\")"
      ],
      "execution_count": 0,
      "outputs": [
        {
          "output_type": "execute_result",
          "data": {
            "text/plain": [
              "['I', '&apos;d', 'like', 'to', 'visit', 'united', '@-@', 'nations']"
            ]
          },
          "metadata": {
            "tags": []
          },
          "execution_count": 30
        }
      ]
    },
    {
      "cell_type": "markdown",
      "metadata": {
        "id": "YKZUDfZfGGVH",
        "colab_type": "text"
      },
      "source": [
        "### Check Data and Sample Count"
      ]
    },
    {
      "cell_type": "code",
      "metadata": {
        "id": "-VX_gFYuD4jG",
        "colab_type": "code",
        "outputId": "69ea8671-82fc-4be6-ae4f-95a2ab74afda",
        "colab": {
          "base_uri": "https://localhost:8080/",
          "height": 428
        }
      },
      "source": [
        "# Look at the stats  - sanity check\n",
        "! wc -lw *.tsv\n",
        "! head -2 *.tsv \n",
        "! tail -n 2 *.tsv \n",
        "! echo \"Training\"\n",
        "! cut -f1 train.ful.tok.tsv | sort | uniq -c\n",
        "! echo \"Test\"\n",
        "! cut -f1 test.tok.tsv | sort | uniq -c"
      ],
      "execution_count": 0,
      "outputs": [
        {
          "output_type": "stream",
          "text": [
            "   25000  7064505 test.tok.tsv\n",
            "   25000  7226208 train.ful.tok.tsv\n",
            "   50000 14290713 total\n",
            "==> test.tok.tsv <==\n",
            "POS\tThe Academy Award winning &apos; Kramer vs. Kramer &apos; follows a snazzy businessman Ted Kramer ( Dustin Hoffman ) and his divorce with his bored wife ( Meryl Streep ) . One day Ted &apos;s wife leaves him and their child in search for a better life , forcing Ted to become closer to his son ( Justin Henry ) . The two bond and become very close ( but only after some friction ) , and just as everything is going perfect Ted &apos;s wife comes back to town and wants sole custody of their son . Ted then goes on a mission not to let his son get taken away from him , and fights his wife in court . Dustin Hoffman gives a tremendous performance along with Meryl Streep , and young Justin Henry is impressive . It &apos;s a sad emotional roller @-@ coaster of a movie , but it &apos;s a very well @-@ made and inspiring film . The film took the Oscar for Best Picture at the 1979 Academy Awards , along with Best Actor for Hoffman and Best Supporting Actress for Streep . If you don &apos;t mind a tearjerker , &apos; Kramer vs. Kramer &apos; is a great film to watch . Grade : B +\n",
            "POS\tmondovino is a moving and rewarding documentary. in the world of wine there is a huge different between the big winery and the small one. it &apos;s not just about size of of your vineyard but also the amount of money and power you have. if you have enough money to place ads in the wine spectator and hire a so called &quot; wine except &quot; then it doesn &apos;t matter the size of your estate. also in business world of today wine often has to mass marketed and suited to people &apos;s taste. what is means many times wine filtered of it &apos;s origin. mondovino shows the commercial side of wine in that of mega producer Robert mondavi , and Michael Rolland the wine expert who shapes wine to the taste of today &apos;s critics like Robert parker who is also in the film. now these men are not evil or wrong for they have done a great deal of good for wine. but they have power on a grand scale. as we all know power corrupts. mondovino also shows small wine makers such as Aime Guilbert of the languedoc and Hubert de montille of volnay in burgundy. these wine makers are not starving wine makers but they know like all great wine makers that it &apos;s about where the grapes are from. the best example of this is explained not by a wine maker but by a Haitian man working for Neal rosenthal the wine importer. the area the grapes are grown the terroir that matters , that a guiding hand that knows this makes important real wine .\n",
            "\n",
            "==> train.ful.tok.tsv <==\n",
            "POS\tI enjoyed this film far more than anything had led me to anticipate ; from reading other comments here , I suspect it benefits enormously from being seen on a full @-@ size screen in the cinema , in the company of a cheerful and enthusiastic audience . I was lucky enough to have that experience , borne up on ripples of laughter from all around , and had an immensely good time with this undemanding comedy . &lt; br / &gt; &lt; br / &gt; For it is as a comedy that it shines , if it shines anywhere at all . The music is nothing special -- in fact , I hadn &apos;t realised it * was * a musical , and was very surprised when the assembled ancestors burst into half @-@ spoken lyric -- but I do have to admit that the half @-@ threat , half @-@ promise of &apos; Oh , what I &apos;ll do ... &apos; has proved far more catchy than it ever seemed at the time , as it &apos;s still going round and round in my head ! &lt; br / &gt; &lt; br / &gt; The plot , such as it is , largely pivots around the past history of the eponymous Francesca , a sixteenth @-@ century portrait sporting a distinctly anachronistic hairstyle and fur @-@ coat . Her idea on the sanctity of marriage don &apos;t quite jibe with those of her distant descendant , the Countess Angelina , and one can almost hear the storyline creaking at the seams under the strain of the Production Code in order to ensure that the heroine arrives unsullied in her much @-@ delayed marriage @-@ bed with the right man ... &lt; br / &gt; &lt; br / &gt; The romance is scarcely earth @-@ shattering , and in fact the first few scenes , played pretty well straight , verge on the tedious . But where script and film really come to life is in the battle of the sexes that follows . The impudence of Douglas Fairbanks Jr &apos;s courtship of Betty Grable &apos;s married Angelina is equalled only by Betty @-@ Grable @-@ as @-@ Francesca &apos;s pursuit of him in turn , culminating in complete role @-@ reversal in the hilarious fantasy sequence where she -- literally -- sweeps him off his feet . This is probably the comic climax of the plot , although the consequences of the Colonel &apos;s understandable confusion are worked out with a deft touch in the remaining two &apos; acts &apos; of the operetta @-@ structure , and the spectacle of Fairbanks &apos; blissful , bemused awakening is more or less worth the price of admission on its own . &lt; br / &gt; &lt; br / &gt; Grable is entirely convincing in establishing her two contrasting characters , wisely gets almost all the ( limited ) singing opportunities , and shares the honours where the swathes of quotable dialogue in the various verbal duels are concerned . But in the field of unspoken reaction she is really outclassed by her male supporting leads ; Fairbanks in particular is an absolute treat in a number of wordless sequences whose set @-@ up and humour is worthy of the silent screen . &lt; br / &gt; &lt; br / &gt; This film is too uneven in style to be a classic , varying from sparkling repartee to hackneyed tedium . But at its best it is quite honestly very funny indeed , and brought a round of spontaneous applause and laughter across the auditorium at the end as the lights went up . Out of tune with its times , it may have failed to draw contemporary audiences -- but , on this showing , really didn &apos;t deserve to be disowned by both Grable and Preminger , the ( uncredited ) director . This is no masterpiece , but a thoroughly entertaining minor work , and I for one found myself grinning in remembrance all the way home .\n",
            "POS\tWriter / Director / Co @-@ Star Adam Jones is headed for great things . That is the thought I had after seeing his feature film &quot; Cross Eyed &quot; . Rarely does an independent film leave me feeling as good as his did . Cleverly written and masterfully directed , &quot; Cross Eyed &quot; keeps you involved from beginning to end . Adam Jones may not be a well known name yet , but he will be . If this movie had one or two &quot; Named Actors &quot; it would be a Box Office sensation . I think it still has a chance to get seen by a main stream audience if just one film distributor takes the time to work this movie . Regardless of where it ends up , if you get a chance to see it you won &apos;t be disappointed .\n",
            "==> test.tok.tsv <==\n",
            "NEG\tPun intended . This low budget action / horror vehicle for Don Wilson &apos;s ability to kick things is the stuff direct @-@ to @-@ video fare is made of . &lt; br / &gt; &lt; br / &gt; The plot : Wilson is a humorless vampire hunter who comes under fire from local law enforcement after he is forced to slaughter creatures of the night in view of the public . Police chase him , vampires chase him , he responds by kicking ... a lot . &lt; br / &gt; &lt; br / &gt; There is a little more to the story , but it is so inconsequential that I honestly can &apos;t remember it ; I think people actually spoke in the movie , but that &apos;s up to debate . The plot is nothing more than a set @-@ up for Wilson to kill as many vampires as possible in the running time , usually by kicking them . &lt; br / &gt; &lt; br / &gt; The technical specs are , in a word , anemic . Little color treating , amateurish use of lighting , simplistic use of camera and angle . Blood and gore is noticeably limited , odd for this type of film . The most hurtful of the filming foul @-@ ups is the jarring shift to super @-@ shaky cam during each and every fight scene . If the camera begins to bounce around like a reese monkey on speed , then you know Don is about to start kicking everything in sight . &lt; br / &gt; &lt; br / &gt; All in all , this is the kind of bad movie that can be made good with a few friends and a lot of cynical humor . Otherwise , do not watch , unless you really like to watch things get kicked . &lt; br / &gt; &lt; br / &gt; 3 / 10\n",
            "NEG\tThe sole reason for someone wanting to see this film would be because of John Leguizamo . I remember the previews , and it looked to be another second rate comedy . But the fact that Mr. Leguizamo starred , tried to redeem it . His name , how known it was at the time or not , tried to sell it . &lt; br / &gt; &lt; br / &gt; I was pretty disappointed with the performance of Leguizamo . His days on &quot; House of Buggin &apos; &quot; ( an &quot; In Living Colour &quot; clone ) , were his tip @-@ top . There is a fine line between wackiness and idiocy , and we &apos;ll just say that Leguizamo crossed it tenfold . He looked like he was trying to be too outrageous and crazy for the camera . As a matter of fact , I &apos;ll say that he tried too hard . Madcap humor spilled over into stupidity , and the film was spoiled . I can &apos;t say I blamed him , if you were given this opportunity , you &apos;d try as hard if you could , right ? Your eagerness cost you dearly though Mr. Leguizamo ... &lt; br / &gt; &lt; br / &gt; The Pest follows in the tradition of any comedy film , and plays the &quot; race card &quot; , and more . No group is left out from being poked fun at . Blacks , Latinos , whites , Jews , Koreans , Germans , homosexuals , and the blind are among those singled out . Again here , things get too overboard , and too much tries to get spoofed in too little time . The resolution of the film takes all of five minutes to clear up and move back to normality . &lt; br / &gt; &lt; br / &gt; When you have a film , and you &apos;re going to bypass plot and reality for comedy &apos;s sake , just make sure it &apos;s funny , or all you have is 90 minutes of senseless film . Which would sum up Leguizamo &apos;s &quot; Pest &quot; quite nicely ...\n",
            "\n",
            "==> train.ful.tok.tsv <==\n",
            "NEG\tI have always wanted to see this because I love cheesy horror movies and with a title like this , I was sure &quot; The Incredible Melting Man &quot; would be a lot of fun . &lt; br / &gt; &lt; br / &gt; It really wasn &apos;t . I mean , the acting was entertainingly bad , the script contained some classic bad lines and the special effects looked like someone had sneezed all over the lead actor , so I should have loved it . Unfortunately it &apos;s really draggy between these highlights . I decided to watch the last half of the movie while doing my tax return . That &apos;s how boring this film is . &lt; br / &gt; &lt; br / &gt; Nevertheless , if you love bad movies you will enjoy the dramatic exit of the Fat Nurse , and the stellar acting of the guy who plays Dr. Ted . To be fair to the poor man , he does have to deliver some amazingly inept lines with straight face - like the conversation he has with his wife on tracking down the I M Man : &lt; br / &gt; &lt; br / &gt; &quot; I &apos;ll find him with a geiger counter . &quot; &quot; Is he radioactive ? &quot; &quot; Just a little bit . &quot; &lt; br / &gt; &lt; br / &gt; Yes , the plot has Dr. Ted wandering about trying to find a superstrong zombie killing machine armed only with what looks like a mini @-@ Dyson . He &apos;s a brave man . Unfortunately his plan fails when he finds a big lot of goop on a tree . &quot; Oh god - it &apos;s his ear ! &quot; says Dr. Ted to the audience . I &apos;m so glad he cleared that up . &lt; br / &gt; &lt; br / &gt; I realise I &apos;m making this movie sound rather fun . It would be if it were only 10 minutes long , but unfortunately it goes on and on , and the Incredible Melting Dude just dangles about making a sticky mess when he should be eating more people in my opinion . I think if you were truly stoned you would probably love it , just don &apos;t have pop @-@ tarts during the movie , because the lead actor really does resemble one near the end .\n",
            "NEG\tThis is one of the worst movies I &apos;ve seen in a long time . Not just the story , but the acting is shockingly bad . The dialog sounds like someone reading the news . &lt; br / &gt; &lt; br / &gt; This is rated as comedy / drama / romance , it &apos;s not of those things ! It &apos;s a little action , that &apos;s it . There &apos;s really NO comedy and drama at all . &lt; br / &gt; &lt; br / &gt; If you went to the cinema to see this I feel sorry for you . I would not recommend it at all . Pretty much anything else that you choose to look at will be better . This is pretty much a action / crime movie . The actions scenes sucked , and crime story part of it was very predictable . &lt; br / &gt; &lt; br / &gt; If you are not really interested in a good story , or good acting . And you simply want to look at a &apos; foreign &apos; film for the appeal of being foreign . Then this might be for you .\n",
            "Training\n",
            "  12500 NEG\n",
            "  12500 POS\n",
            "Test\n",
            "  12500 NEG\n",
            "  12500 POS\n"
          ],
          "name": "stdout"
        }
      ]
    },
    {
      "cell_type": "markdown",
      "metadata": {
        "id": "stpRaVxWGq_N",
        "colab_type": "text"
      },
      "source": [
        "### Create Validation Data\n",
        "\n",
        "*   To build machine learning models, we typically split data into train / validation / test.\n",
        "*   Validataion data is used to tune hyper-parameters and prevent overfitting."
      ]
    },
    {
      "cell_type": "code",
      "metadata": {
        "id": "muooqAHSFAnu",
        "colab_type": "code",
        "outputId": "98883463-fd4e-4aeb-d13e-57f80797925c",
        "colab": {
          "base_uri": "https://localhost:8080/",
          "height": 119
        }
      },
      "source": [
        "# shuffle ; first 2000 for validation, rest for training\n",
        "! shuf train.ful.tok.tsv > train.ful.tok.tsv.shuf \n",
        "! awk 'NR  <= 2000 ' train.ful.tok.tsv.shuf > valid.tok.tsv\n",
        "! awk 'NR  > 2000 ' train.ful.tok.tsv.shuf > train.tok.tsv\n",
        "! wc -l train.* valid.* test.*"
      ],
      "execution_count": 0,
      "outputs": [
        {
          "output_type": "stream",
          "text": [
            "    25000 train.ful.tok.tsv\n",
            "    25000 train.ful.tok.tsv.shuf\n",
            "    23000 train.tok.tsv\n",
            "     2000 valid.tok.tsv\n",
            "    25000 test.tok.tsv\n",
            "   100000 total\n"
          ],
          "name": "stdout"
        }
      ]
    },
    {
      "cell_type": "markdown",
      "metadata": {
        "id": "E7Pzxa6rGgK0",
        "colab_type": "text"
      },
      "source": [
        "### Create Vocabulary\n",
        "\n",
        "Scan all training text, create token to idx mapping. \\\\\n",
        "Reserved types (tokens) are $<unk>, <pad>, <s>, </s>$"
      ]
    },
    {
      "cell_type": "code",
      "metadata": {
        "id": "-N0mGjTKFXq2",
        "colab_type": "code",
        "outputId": "46c08e7a-529f-429c-c0df-2b229b56aad7",
        "colab": {
          "base_uri": "https://localhost:8080/",
          "height": 102
        }
      },
      "source": [
        "from typing import List, Iterator, Set, Dict, Optional, Tuple\n",
        "from collections import Counter\n",
        "from pathlib import Path\n",
        "\n",
        "LABELS = ['NEG', 'POS']\n",
        "RESERVED = ['<pad>', '<unk>', '<s>', '</s>']\n",
        "# <s>, </s> are for future use during sequence modeling \n",
        "\n",
        "PAD_IDX = 0 \n",
        "UNK_IDX = 1\n",
        "MAX_TYPES = 40_000\n",
        "MAX_SEQ_LEN = 100\n",
        "\n",
        "class Vocab:\n",
        "  \"\"\" Mapper of words <--> index \"\"\"\n",
        "\n",
        "  def __init__(self, types):\n",
        "    # types is list of strings\n",
        "    assert isinstance(types, list)\n",
        "    assert isinstance(types[0], str)\n",
        "\n",
        "    self.idx2word = types\n",
        "    self.word2idx = {word: idx for idx, word in enumerate(types)}\n",
        "    assert len(self.idx2word) == len(self.word2idx)  # One-to-One\n",
        "\n",
        "  def __len__(self):\n",
        "    return len(self.idx2word)\n",
        "  \n",
        "  def save(self, path: Path):\n",
        "    log.info(f'Saving vocab to {path}')\n",
        "    with path.open('w') as wr:\n",
        "      for word in self.idx2word:\n",
        "        wr.write(f'{word}\\n')\n",
        " \n",
        "  @staticmethod\n",
        "  def load(path):\n",
        "    log.info(f'loading vocab from {path}')\n",
        "    types = [line.strip() for line in path.open()]\n",
        "    for idx, tok in enumerate(RESERVED): # check reserved\n",
        "      assert types[idx] == tok\n",
        "    return Vocab(types)\n",
        "\n",
        "  @staticmethod\n",
        "  def from_text(corpus: Iterator[str], max_types: int,\n",
        "                             min_freq: int = 5):\n",
        "    \"\"\"\n",
        "    corpus: text corpus; iterator of strings\n",
        "    max_types: max size of vocabulary\n",
        "    min_freq: ignore word types that have fewer ferquency than this number\n",
        "    \"\"\"\n",
        "    log.info(\"building vocabulary; this might take some time\")\n",
        "    term_freqs = Counter(tok for line in corpus for tok in line.split())\n",
        "    for r in RESERVED:\n",
        "      if r in term_freqs:\n",
        "        log.warning(f'Found reserved word {r} in corpus')\n",
        "        del term_freqs[r]\n",
        "    term_freqs = list(term_freqs.items())\n",
        "    log.info(f\"Found {len(term_freqs)} types; given max_types={max_types}\")\n",
        "    term_freqs = {(t, f) for t, f in term_freqs if f >= min_freq}\n",
        "    log.info(f\"Found {len(term_freqs)} after dropping freq < {min_freq} terms\")\n",
        "    term_freqs = sorted(term_freqs, key=lambda x: x[1], reverse=True)\n",
        "    term_freqs = term_freqs[:max_types]\n",
        "    types = [t for t, f in term_freqs]\n",
        "    types = RESERVED + types   # prepend reserved words\n",
        "    return Vocab(types)\n",
        "\n",
        "\n",
        "train_file = Path('train.tok.tsv')\n",
        "valid_file = Path('valid.tok.tsv')\n",
        "vocab_file = Path('vocab.txt')\n",
        "\n",
        "if not vocab_file.exists():\n",
        "  train_corpus = (line.split('\\t')[1] for line in Path('train.tok.tsv').open())\n",
        "  vocab = Vocab.from_text(train_corpus, max_types=MAX_TYPES, min_freq=5)\n",
        "  vocab.save(vocab_file)\n",
        "else:\n",
        "  vocab = Vocab.load(vocab_file)\n",
        "\n",
        "log.info(f'Vocab has {len(vocab)} types')"
      ],
      "execution_count": 0,
      "outputs": [
        {
          "output_type": "stream",
          "text": [
            "INFO:root:building vocabulary; this might take some time\n",
            "INFO:root:Found 100879 types; given max_types=40000\n",
            "INFO:root:Found 32722 after dropping freq < 5 terms\n",
            "INFO:root:Saving vocab to vocab.txt\n",
            "INFO:root:Vocab has 32726 types\n"
          ],
          "name": "stderr"
        }
      ]
    },
    {
      "cell_type": "code",
      "metadata": {
        "id": "9OaqB8RpXXLP",
        "colab_type": "code",
        "colab": {}
      },
      "source": [
        "s1 = [5, 4, 9, 10]\n",
        "s2 = [6, 7, 8, 0]"
      ],
      "execution_count": 0,
      "outputs": []
    },
    {
      "cell_type": "code",
      "metadata": {
        "id": "BPhKlKiDGNed",
        "colab_type": "code",
        "outputId": "30a2ce2c-8849-4234-e826-e99ce73dac6b",
        "colab": {
          "base_uri": "https://localhost:8080/",
          "height": 187
        }
      },
      "source": [
        "[(k,v) for k,v in vocab.word2idx.items()][:10]"
      ],
      "execution_count": 0,
      "outputs": [
        {
          "output_type": "execute_result",
          "data": {
            "text/plain": [
              "[('<pad>', 0),\n",
              " ('<unk>', 1),\n",
              " ('<s>', 2),\n",
              " ('</s>', 3),\n",
              " ('the', 4),\n",
              " (',', 5),\n",
              " ('.', 6),\n",
              " ('and', 7),\n",
              " ('a', 8),\n",
              " ('of', 9)]"
            ]
          },
          "metadata": {
            "tags": []
          },
          "execution_count": 16
        }
      ]
    },
    {
      "cell_type": "code",
      "metadata": {
        "id": "BqhCCckeHICI",
        "colab_type": "code",
        "outputId": "ca057e4c-a9f8-48ba-b0a3-5032b05cb641",
        "colab": {
          "base_uri": "https://localhost:8080/",
          "height": 34
        }
      },
      "source": [
        "print(vocab.idx2word[0], vocab.idx2word[1])"
      ],
      "execution_count": 0,
      "outputs": [
        {
          "output_type": "stream",
          "text": [
            "<pad> <unk>\n"
          ],
          "name": "stdout"
        }
      ]
    },
    {
      "cell_type": "markdown",
      "metadata": {
        "id": "ZzQL71lpIRNM",
        "colab_type": "text"
      },
      "source": [
        "### Create [Dataloader](https://pytorch.org/docs/1.1.0/data.html)\n",
        "\n",
        "Batch computation \\\\\n",
        "Dataloader is generally a good practice in deep learning as data are usually very large."
      ]
    },
    {
      "cell_type": "code",
      "metadata": {
        "id": "540fOFFHEwkP",
        "colab_type": "code",
        "outputId": "f543b8a9-8832-483e-f3a6-0ab8d42c13c1",
        "colab": {
          "base_uri": "https://localhost:8080/",
          "height": 85
        }
      },
      "source": [
        "import copy\n",
        "import random\n",
        "\n",
        "Example = Tuple[List[int], int]\n",
        "\n",
        "class TextDataset:\n",
        "\n",
        "  def __init__(self, vocab: Vocab, path: Path, labels=LABELS, \n",
        "               has_label=True, max_len=MAX_SEQ_LEN):\n",
        "    self.vocab = vocab\n",
        "    self.label_map = Vocab(labels)\n",
        "    log.info(f'loading data from {path}')\n",
        "    # for simplicity, loading everything to memory; on large datasets this will cause OOM\n",
        "    fields = [line.split('\\t') for line in path.open()]\n",
        "\n",
        "    labels = [l for l, _ in fields]\n",
        "    text = [line.strip().split() for _, line in fields] # white space tokenizer\n",
        "    self.text = [toks[:max_len] for toks in text] # truncate long seqs\n",
        "\n",
        "    # Convert words to integer indexes\n",
        "    ys = [self.label_map.word2idx[l] for l in labels]\n",
        "    # words to index; out-of-vocab words are replaced with UNK\n",
        "    xs = [[self.vocab.word2idx.get(tok, UNK_IDX) for tok in tokss] \n",
        "                 for tokss in text]\n",
        "    self.data: List[Example] = list(zip(xs, ys))\n",
        "    label_stats = Counter(ys)\n",
        "    log.info(f\"Found {len(self.data)} records in {path}; labels={label_stats}\")\n",
        "\n",
        "  def as_batches(self, batch_size, shuffle=True):\n",
        "    data = self.data\n",
        "    if shuffle:\n",
        "      random.shuffle(data)\n",
        "    for i in range(0, len(data), batch_size): # i incrememt by batch_size\n",
        "      batch = data[i: i + batch_size]  # slice\n",
        "      yield self.batch_as_tensors(batch)\n",
        "  \n",
        "  @staticmethod\n",
        "  def batch_as_tensors(batch: List[Example]):\n",
        "    labels = [label for seq, label in batch]\n",
        "    seqs = [seq for seq, label in batch]\n",
        "    label_tensor = torch.tensor(labels, dtype=torch.long)\n",
        "    n_ex = len(batch)\n",
        "    max_len = max(len(seq) for seq in seqs)\n",
        "    seqs_tensor = torch.full(size=(n_ex, max_len), fill_value=PAD_IDX,\n",
        "                             dtype=torch.long)\n",
        "    for i, seq in enumerate(seqs):\n",
        "      seqs_tensor[i, 0:len(seq)] = torch.tensor(seq)\n",
        "    return seqs_tensor, label_tensor\n",
        "\n",
        "valid_data = TextDataset(vocab=vocab, path=valid_file)\n",
        "train_data = TextDataset(vocab=vocab, path=train_file)"
      ],
      "execution_count": 0,
      "outputs": [
        {
          "output_type": "stream",
          "text": [
            "INFO:root:loading data from valid.tok.tsv\n",
            "INFO:root:Found 2000 records in valid.tok.tsv; labels=Counter({1: 1016, 0: 984})\n",
            "INFO:root:loading data from train.tok.tsv\n",
            "INFO:root:Found 23000 records in train.tok.tsv; labels=Counter({0: 11516, 1: 11484})\n"
          ],
          "name": "stderr"
        }
      ]
    },
    {
      "cell_type": "code",
      "metadata": {
        "id": "mkVwDlFfmoSQ",
        "colab_type": "code",
        "outputId": "41209122-efa8-4900-8130-aec78bc80c9b",
        "colab": {
          "base_uri": "https://localhost:8080/",
          "height": 510
        }
      },
      "source": [
        "for x in train_data.as_batches(batch_size=1):\n",
        "  print(x.shape)\n",
        "  print(x)\n",
        "  break"
      ],
      "execution_count": 0,
      "outputs": [
        {
          "output_type": "stream",
          "text": [
            "(tensor([[    1,  9623,    21,    20,  1329,    16,     4,  2142,     9,  7984,\n",
            "            20,    12,     8,  2452,  1457,    30,    10,   131,     6,   613,\n",
            "          9623,  1601,   232,     8,  4579,  3520,    58,   467,  4843,     6,\n",
            "            63,    12,     8,    27,    19,   209,    10,    41,  1003,   232,\n",
            "            70,   316,     5,   817,     7,  1078,   105,    10,    98,    16,\n",
            "             4,   304,  1218,   101,  2907,     6,    14,    15,    11,    13,\n",
            "            14,    15,    11,    13,    63,   134,     8,  8672,    35,     4,\n",
            "          1631,     1,    21,   329,    58,     4,   193,   803,     5,     4,\n",
            "           197, 19847,     4,   233,    10,     4,  1010,    72,   547,   798,\n",
            "           148,    47,   174,   304,   123,   987,     7,  3893,     6,  2731,\n",
            "            44,    12,  3301,    16,    44,   113,     5,    57,   206,    10,\n",
            "             4,   437,   431,     5,    33,    85,    44,   209,    10,   142,\n",
            "             4,   992,   246,     9,  3457,     6,     1,     5,     4,    30,\n",
            "            60,     8,  3772, 16472,   196,     6,   343,    37,   657,    10,\n",
            "            84,   115,   174,    98,   479,     7,     4,   227,    50,   479,\n",
            "            16,    82,   221, 30286,     6,    14,    15,    11,    13,    14,\n",
            "            15,    11,    13,    25,    78,   180,    44,   235,    59,     9,\n",
            "            47,   174,  4292,    16,     4,   493,    12,     4,   304,  5613,\n",
            "             9,  5614,   297,    44, 15424,     6,   137,   259,   883,    12,\n",
            "            38,   674,     4,   151,   303,    16,    75,   467,  4843,   188,\n",
            "          5182, 11984,     5,    26,    44,     1,    12,     4,   469,    28,\n",
            "           109,     9,     4,    98,   101,  2907,     6,    14,    15,    11,\n",
            "            13,    14,    15,    11,    13,    25,   135,    12,    65,   513,\n",
            "           613,  9623,    21,   514,     6,  1241, 11639,     5,  7369,  3562,\n",
            "             5,  3748,  3823,     5,   506, 23246,     5,  7355,     1,     5,\n",
            "             7,     4,   381,     9,     4,  1062,   201,     5,   111,   174,\n",
            "           123,   257,  1428,     6,    14,    15,    11,    13,    14,    15,\n",
            "            11,    13,   343,   727,   613,  9623,    65,  2274,     7, 13921,\n",
            "         18363,    29,    39,   437,   183,     6]]), tensor([1]))\n"
          ],
          "name": "stdout"
        }
      ]
    },
    {
      "cell_type": "markdown",
      "metadata": {
        "id": "cTg8Ka_nMsrB",
        "colab_type": "text"
      },
      "source": [
        "## [Word Embedding](https://towardsdatascience.com/introduction-to-word-embedding-and-word2vec-652d0c2060fa)\n",
        "\n",
        "Word2vec \\\\\n",
        "GloVe \\\\\n",
        "fastText \\\\\n",
        "ELMO \\\\\n",
        "BERT \\\\"
      ]
    },
    {
      "cell_type": "code",
      "metadata": {
        "id": "vUyz7hqcMrn_",
        "colab_type": "code",
        "colab": {}
      },
      "source": [
        "import torch.nn as nn\n",
        "class FNN_embedding(nn.Module):\n",
        "\n",
        "  def __init__(self, vocab_size, n_class, emb_dim=50, hid=10, dropout=0.1):\n",
        "    super().__init__() # call is necessary as per Pytorch API design\n",
        "    # embedding_dim same as n_class\n",
        "    self.embedding = nn.Embedding(num_embeddings=vocab_size,\n",
        "                                  embedding_dim=emb_dim, padding_idx=PAD_IDX)\n",
        "    \n",
        "    self.linear1 = nn.Linear(emb_dim, hid)\n",
        "    self.linear2 = nn.Linear(hid, n_class)\n",
        "    self.dropout = nn.Dropout(p=dropout)\n",
        "\n",
        "  def forward(self, seqs, log_probs=True):\n",
        "    \"\"\"Return log Probabilities\"\"\"\n",
        "    batch_size, max_len = seqs.shape\n",
        "    embs = self.embedding(seqs)  # embs[Batch x SeqLen x EmbDim]\n",
        "    embs = self.dropout(embs)\n",
        "    \n",
        "    mask = seqs == 0             # Masking padded time steps \n",
        "    mask = mask.view(batch_size, max_len, 1)   # unsqueeze(2)\n",
        "    embs.masked_fill(mask, value=0)\n",
        "    embs = embs.sum(dim=1)   # sum over all all steps in seq\n",
        "\n",
        "    hid_activated = torch.relu(self.linear1(embs)) # Non linear\n",
        "    scores = self.linear2(hid_activated)\n",
        "\n",
        "    if log_probs:\n",
        "      return torch.log_softmax(scores, dim=1)\n",
        "    else:\n",
        "      return torch.softmax(scores, dim=1)"
      ],
      "execution_count": 0,
      "outputs": []
    },
    {
      "cell_type": "markdown",
      "metadata": {
        "id": "3r8UglMqK92H",
        "colab_type": "text"
      },
      "source": [
        "## Trainner Object --> train(), similar to what we just did in Part I.\n",
        "\n",
        "\n",
        "1.   Initilize model\n",
        "2.   Pick an optimizer and a loss function\n",
        "3.   Iterate through data N times\n",
        "4.   model.train()\n",
        "5.   batch calculation / prediction\n",
        "6.   optimizer.zero_grad()\n",
        "7.   Feed data into model and compute y_pred + loss\n",
        "8.   loss.backward()\n",
        "9.   evaluation --> model.eval()\n",
        "10.  go back to step 4  \n",
        "\n"
      ]
    },
    {
      "cell_type": "code",
      "metadata": {
        "id": "-gPmrJXXE54t",
        "colab_type": "code",
        "outputId": "9a049f96-4e6e-45ba-9ce3-ee2c5b1b489f",
        "colab": {
          "base_uri": "https://localhost:8080/",
          "height": 221
        }
      },
      "source": [
        "# Trainer Optimizer \n",
        "import time\n",
        "from tqdm import tqdm\n",
        "\n",
        "def train(model, optimizer, n_epochs, batch_size, train_data, valid_data, device=torch.device('cuda')):\n",
        "  log.info(f\"Moving model to {device}\")\n",
        "  model = model.to(device)   # move model to desired device \n",
        "  log.info(f\"Device for training {device}\")\n",
        "  losses = []\n",
        "  for epoch in range(n_epochs):\n",
        "    start = time.time()\n",
        "    num_toks = 0\n",
        "    train_loss = 0.\n",
        "    n_train_batches = 0\n",
        "\n",
        "    model.train() # switch to train mode \n",
        "    with tqdm(train_data.as_batches(batch_size=batch_size), leave=False) as data_bar:\n",
        "      for seqs, labels in data_bar:\n",
        "        # Move input to desired device\n",
        "        seqs = seqs.to(device)\n",
        "        labels = labels.to(device)\n",
        "        \n",
        "        num_toks += (seqs != PAD_IDX).sum().item()\n",
        "\n",
        "        log_probs = model(seqs)\n",
        "        loss = loss_func(log_probs, labels).sum() / len(seqs)\n",
        "        train_loss += loss.item()\n",
        "        \n",
        "        n_train_batches += 1\n",
        "\n",
        "        optimizer.zero_grad()         # clear grads\n",
        "        loss.backward()\n",
        "        optimizer.step()\n",
        "\n",
        "        toks_speed = num_toks / (time.time() - start)\n",
        "        pbar_msg = f'Loss:{loss.item():.4f} {int(toks_speed)} toks/s'\n",
        "        data_bar.set_postfix_str(pbar_msg)\n",
        "      \n",
        "    # Run validation\n",
        "    with torch.no_grad():\n",
        "      model.eval() # switch to inference mode -- no grads, dropouts inactive\n",
        "      \n",
        "      val_loss = 0\n",
        "      n_val_batches = 0\n",
        "      for seqs, labels in valid_data.as_batches(batch_size=batch_size, shuffle=False):\n",
        "        # Move input to desired device\n",
        "        seqs = seqs.to(device)\n",
        "        labels = labels.to(device)\n",
        "        log_probs = model(seqs)\n",
        "        loss = loss_func(log_probs, labels).sum() / len(seqs)\n",
        "        val_loss += loss.item() \n",
        "        n_val_batches += 1\n",
        "      \n",
        "    avg_train_loss = train_loss / n_train_batches\n",
        "    avg_val_loss = val_loss / n_val_batches\n",
        "    losses.append((epoch, avg_train_loss, avg_val_loss))\n",
        "    log.info(f\"Epoch {epoch} complete; Losses: Train={avg_train_loss:G} Valid={avg_val_loss:G}\")\n",
        "  return losses\n",
        "\n",
        "# Step 1\n",
        "model = FNN_embedding(vocab_size=len(vocab), n_class=len(LABELS))\n",
        "# Step 2\n",
        "loss_func = nn.NLLLoss(reduction='none')\n",
        "optimizer = optim.Adam(params=model.parameters())\n",
        "\n",
        "losses = train(model, optimizer, n_epochs=10, batch_size=100, \n",
        "               train_data=train_data, valid_data=valid_data)"
      ],
      "execution_count": 0,
      "outputs": [
        {
          "output_type": "stream",
          "text": [
            "INFO:root:Moving model to cuda\n",
            "INFO:root:Device for training cuda\n",
            "INFO:root:Epoch 0 complete; Losses: Train=0.835289 Valid=0.668705\n",
            "INFO:root:Epoch 1 complete; Losses: Train=0.620528 Valid=0.587551\n",
            "INFO:root:Epoch 2 complete; Losses: Train=0.521444 Valid=0.503103\n",
            "INFO:root:Epoch 3 complete; Losses: Train=0.422191 Valid=0.436336\n",
            "INFO:root:Epoch 4 complete; Losses: Train=0.341995 Valid=0.398732\n",
            "INFO:root:Epoch 5 complete; Losses: Train=0.285016 Valid=0.376304\n",
            "INFO:root:Epoch 6 complete; Losses: Train=0.240073 Valid=0.366372\n",
            "INFO:root:Epoch 7 complete; Losses: Train=0.2073 Valid=0.36486\n",
            "INFO:root:Epoch 8 complete; Losses: Train=0.177015 Valid=0.362477\n",
            "INFO:root:Epoch 9 complete; Losses: Train=0.15255 Valid=0.366085\n"
          ],
          "name": "stderr"
        }
      ]
    },
    {
      "cell_type": "code",
      "metadata": {
        "id": "flBVRvVvPUy5",
        "colab_type": "code",
        "outputId": "a4515ecf-65e6-4a52-bb7c-89cb466ba683",
        "colab": {
          "base_uri": "https://localhost:8080/",
          "height": 513
        }
      },
      "source": [
        "# Visualize the losses\n",
        "from matplotlib import pyplot as plt\n",
        "\n",
        "def viz_losses(losses):\n",
        "  epochs = [e for e, t, v in losses]\n",
        "  train_losses = [t for e, t, v in losses]\n",
        "  val_losses = [v for e, t, v in losses]\n",
        "  \n",
        "  plt.figure(figsize=(12, 8))\n",
        "  plt.plot(epochs, train_losses, color='blue', label = 'Training')\n",
        "  plt.plot(epochs, val_losses, color='red', label='Validation')\n",
        "  plt.xlabel('Epochs')\n",
        "  plt.ylabel('Average Loss')\n",
        "  plt.title('Training and Validation Losses')\n",
        "  plt.legend(bbox_to_anchor=(1.05, 1), loc=2, borderaxespad=0.)\n",
        "  plt.show()\n",
        "\n",
        "viz_losses(losses)"
      ],
      "execution_count": 0,
      "outputs": [
        {
          "output_type": "display_data",
          "data": {
            "image/png": "[encoded data removed]",
            "text/plain": [
              "<Figure size 864x576 with 1 Axes>"
            ]
          },
          "metadata": {
            "tags": []
          }
        }
      ]
    },
    {
      "cell_type": "markdown",
      "metadata": {
        "id": "4iPA4EwPoAML",
        "colab_type": "text"
      },
      "source": [
        "## Report model performance on test data"
      ]
    },
    {
      "cell_type": "code",
      "metadata": {
        "id": "mXqNKZFIneGa",
        "colab_type": "code",
        "outputId": "9a083c31-9baa-4e4b-af5f-01f7b91909b2",
        "colab": {
          "base_uri": "https://localhost:8080/",
          "height": 51
        }
      },
      "source": [
        "test_data = TextDataset(vocab=vocab, path=Path('test.tok.tsv'))"
      ],
      "execution_count": 0,
      "outputs": [
        {
          "output_type": "stream",
          "text": [
            "INFO:root:loading data from test.tok.tsv\n",
            "INFO:root:Found 25000 records in test.tok.tsv; labels=Counter({1: 12500, 0: 12500})\n"
          ],
          "name": "stderr"
        }
      ]
    },
    {
      "cell_type": "code",
      "metadata": {
        "id": "PMzgDQPTnruB",
        "colab_type": "code",
        "outputId": "70a45ce4-5f15-4e2d-8452-d48814f59245",
        "colab": {
          "base_uri": "https://localhost:8080/",
          "height": 136
        }
      },
      "source": [
        "from collections import defaultdict as ddict\n",
        "\n",
        "def confusion_matrix(model, test_data, batch_size=100, device=torch.device('cuda')):\n",
        "  matrix = ddict(lambda:ddict(int))\n",
        "  with torch.no_grad():\n",
        "    model.eval()\n",
        "    for seqs, truth in test_data.as_batches(batch_size=batch_size):\n",
        "      seqs = seqs.to(device)\n",
        "      truth = truth.to(device)\n",
        "      \n",
        "      log_probs = model(seqs)\n",
        "      top_class = log_probs.argmax(dim=1)\n",
        "      for tru, pred in zip(truth.tolist(), top_class.tolist()):\n",
        "        matrix[tru][pred] += 1\n",
        "\n",
        "  d = matrix\n",
        "  matrix = torch.zeros(len(d), len(d))\n",
        "  for tru, preds in d.items():\n",
        "    for pred, count in preds.items():\n",
        "      matrix[tru][pred] = count\n",
        "  return matrix  \n",
        "\n",
        "def report_performance(model):\n",
        "  cnf_mat = confusion_matrix(model, test_data, device=torch.device('cuda'))\n",
        "  print(\"Labels: \", LABELS)\n",
        "  print('Confusion Matrix:', cnf_mat)\n",
        "  accuracy = cnf_mat.diag().sum() / cnf_mat.sum()\n",
        "  print('Accuracy:', accuracy)\n",
        "  precision = cnf_mat.diag() / cnf_mat.sum(dim=0)\n",
        "  print('Precision:', precision)\n",
        "  recall = cnf_mat.diag() / cnf_mat.sum(dim=1)\n",
        "  print('Recall:', recall)\n",
        "  f1 = 2 * precision * recall / (precision + recall) \n",
        "  print(\"F1:\",  f1)\n",
        "\n",
        "report_performance(model)"
      ],
      "execution_count": 0,
      "outputs": [
        {
          "output_type": "stream",
          "text": [
            "Labels:  ['NEG', 'POS']\n",
            "Confusion Matrix: tensor([[10828.,  1672.],\n",
            "        [ 1761., 10739.]])\n",
            "Accuracy: tensor(0.8627)\n",
            "Precision: tensor([0.8601, 0.8653])\n",
            "Recall: tensor([0.8662, 0.8591])\n",
            "F1: tensor([0.8632, 0.8622])\n"
          ],
          "name": "stdout"
        }
      ]
    },
    {
      "cell_type": "code",
      "metadata": {
        "id": "RhRvyEuHnu9I",
        "colab_type": "code",
        "colab": {}
      },
      "source": [
        ""
      ],
      "execution_count": 0,
      "outputs": []
    }
  ]
}